{
 "cells": [
  {
   "cell_type": "code",
   "execution_count": 1,
   "metadata": {},
   "outputs": [],
   "source": [
    "import numpy as np\n",
    "import numpy.linalg as linalg\n",
    "\n",
    "phi = 0.5 * (-1 + np.sqrt(5))\n",
    "numPoints = 128\n",
    "\n",
    "\n",
    "class OneDollar(object):\n",
    "    \"\"\"docstring for Recognizer\"\"\"\n",
    "\n",
    "    def __init__(self, angle_range=45., angle_step=2., square_size=250.):\n",
    "        super(OneDollar, self).__init__()\n",
    "        self.angle_range = angle_range\n",
    "        self.angle_step = angle_step\n",
    "        self.square_size = square_size\n",
    "        self.templates = []\n",
    "        self.resampled_templates = []     #for convenience\n",
    "        self.resampled_gesture = []       #for convenience\n",
    "        self.labels = []\n",
    "\n",
    "\n",
    "\n",
    "    #########################################\n",
    "    # TODO 8\n",
    "    #\n",
    "    #########################################\n",
    "    def recognize(self, points):\n",
    "        #self.resampled_gesture = points\n",
    "        b = np.inf\n",
    "        template_id = -1\n",
    "        i = -1\n",
    "        for t in self.templates :\n",
    "            i = i +1\n",
    "            d = self.distanceAtBestAngle(points, t, self.angle_range, 2,self.angle_step)\n",
    "            if d < b :\n",
    "                b = d\n",
    "                t1 = t\n",
    "                template_id = i\n",
    "        size = self.square_size        \n",
    "        score = 1 - b/(0.5*np.sqrt(2*size*size))\n",
    "        label = self.labels[template_id]\n",
    "        return template_id, label, score\n",
    "\n",
    "\n",
    "    #########################################\n",
    "    # Angle values are in degrees\n",
    "    #########################################\n",
    "    def distanceAtBestAngle(self, points, template, angle_a, angle_b,\n",
    "                            angle_step):\n",
    "        x_1 = (phi * angle_a) + ( 1 - phi)*angle_b\n",
    "        f_1 = self.distanceAtAngle(points, template, x_1)\n",
    "        x_2 = (1- phi) * angle_a + (phi * angle_b)\n",
    "        f_2 = self.distanceAtAngle(points, template, x_2)\n",
    "\n",
    "        while (abs(angle_b-angle_a)>angle_step):\n",
    "            if (f_1 < f_2) :\n",
    "                angle_b = x_2\n",
    "                x_2 = x_1\n",
    "                f_2 = f_1\n",
    "                x_1 = (phi * angle_a) + (1 - phi) * angle_b\n",
    "                f_1 = self.distanceAtAngle(points, template, x_1)\n",
    "            else :\n",
    "                angle_a = x_1\n",
    "                x_1 = x_2\n",
    "                f_1 = f_2\n",
    "                x_2 = (1 - phi) * angle_a + (phi * angle_b)\n",
    "                f_2 = self.distanceAtAngle(points, template, x_2)\n",
    "\n",
    "        return min(f_1, f_2)\n",
    "\n",
    "    ####################\n",
    "    def distanceAtAngle(self, points, template, angle):\n",
    "        newPoints = self.rotateBy(points, angle)\n",
    "        d = pathDistance(newPoints, template)\n",
    "        return d\n",
    "\n",
    "\n",
    "\n",
    "\n",
    "    ####################\n",
    "    def resample(self, points, n):\n",
    "        # Get the length that should be between the returned points\n",
    "        path_length = pathLength(points) / float(n - 1)\n",
    "        newPoints = [points[0]]\n",
    "        D = 0.0\n",
    "        i = 1\n",
    "        while i < len(points):\n",
    "            point = points[i - 1]\n",
    "            next_point = points[i]\n",
    "            d = getDistance(point, next_point)\n",
    "            if D + d >= path_length:\n",
    "                delta_distance = float((path_length - D) / d)\n",
    "                q = [0., 0.]\n",
    "                q[0] = point[0] + delta_distance * (next_point[0] - point[0])\n",
    "                q[1] = point[1] + delta_distance * (next_point[1] - point[1])\n",
    "                newPoints.append(q)\n",
    "                points.insert(i, q)\n",
    "                D = 0.\n",
    "            else:\n",
    "                D += d\n",
    "            i += 1\n",
    "        if len(newPoints) == n - 1:  # Fix a possible roundoff error\n",
    "            newPoints.append(points[0])\n",
    "        return newPoints\n",
    "\n",
    "    ####################\n",
    "    def fit(self, templates, labels):\n",
    "        for i, t in enumerate(templates):\n",
    "            self.addTemplate(t, labels[i])\n",
    "            #self.labels.append(labels[i])\n",
    "\n",
    "\n",
    "    ####################\n",
    "    def addTemplate(self, template, label):\n",
    "        points = []\n",
    "        for i in range(template.shape[0]):\n",
    "            points.append([template[i,0], template[i,1]])\n",
    "        points = self.resample(points, numPoints)\n",
    "        self.resampled_templates.append( points )\n",
    "        points = self.rotateToZero(points)\n",
    "        points = self.scaleToSquare(points)\n",
    "        points = self.translateToOrigin(points)\n",
    "        self.templates.append(points)\n",
    "        self.labels.append(label)\n",
    "\n",
    "\n",
    "\n",
    "    #########################################\n",
    "    # TODO 6\n",
    "    #########################################\n",
    "    def rotateToZero(self, points):\n",
    "        centroid = np.mean(points, 0)\n",
    "        #newPoints = points      #remove this line, it is just for compilation\n",
    "        #todo\n",
    "        theta = np.arctan2(centroid[1] - points[0][1],centroid[0] - points[0][0])\n",
    "        newPoints = self.rotateBy(points, -theta)\n",
    "        return newPoints\n",
    "\n",
    "    #########################################\n",
    "    # TODO 6\n",
    "    #########################################\n",
    "    def rotateBy(self, points, angle):\n",
    "        newPoints = np.zeros((1, 2))    #initialize with a first point [0,0]\n",
    "        c = np.mean(points, 0)\n",
    "        #todo 6 update the vector newPoints\n",
    "        for p in points :\n",
    "            q = np.array([0., 0.])\n",
    "            q[0] = (p[0] - c[0]) * np.cos(angle) - (p[1] - c[1])* np.sin(angle) + c[0]\n",
    "            q[1] = (p[0] - c[0]) * np.sin(angle) + (p[1] - c[1])* np.cos(angle) + c[1]\n",
    "            newPoints = np.append(newPoints, [q], 0)\n",
    "        newPoints = newPoints[1:]       #remove the first point [0,0]\n",
    "        return newPoints\n",
    "\n",
    "\n",
    "    #########################################\n",
    "    # TODO 7\n",
    "    #########################################\n",
    "    def scaleToSquare(self, points):\n",
    "        newPoints = np.zeros((1, 2))    #initialize with a first point [0,0]\n",
    "        #todo 7\n",
    "        B = (np.amax(points,axis = 0)[0] - np.amin(points, axis = 0)[0], np.amax(points,axis = 0)[1] - np.amin(points, axis =0)[1]) \n",
    "        #print(B)\n",
    "        size = self.square_size\n",
    "        for p in points :\n",
    "            q = np.array([0., 0.])\n",
    "            q[0] = p[0] * (size / B[0] )\n",
    "            q[1] = p[1] * (size / B[1] )\n",
    "            newPoints = np.append(newPoints, [q], 0)\n",
    "        newPoints = newPoints[1:]      #remove the first point [0,0]\n",
    "        return newPoints\n",
    "\n",
    "\n",
    "\n",
    "    ################################\n",
    "    def translateToOrigin(self, points):\n",
    "        centroid = np.mean(points, 0)\n",
    "        newPoints = np.zeros((1, 2))\n",
    "        self.translation = centroid\n",
    "        for point in points:\n",
    "            q = np.array([0., 0.])\n",
    "            q[0] = point[0] - centroid[0]\n",
    "            q[1] = point[1] - centroid[1]\n",
    "            newPoints = np.append(newPoints, [q], 0)\n",
    "        newPoints = newPoints[1:]      #remove the first point [0,0]\n",
    "        return newPoints\n",
    "\n",
    "    ################################\n",
    "    def translate(self, points, vec):\n",
    "        newPoints = np.zeros((1, 2))\n",
    "        for point in points:\n",
    "            q = np.array([0., 0.])\n",
    "            q[0] = point[0] + vec[0]\n",
    "            q[1] = point[1] + vec[1]\n",
    "            newPoints = np.append(newPoints, [q], 0)\n",
    "        return newPoints[1:]\n",
    "\n",
    "\n",
    "\n",
    "    ####################\n",
    "    # def score(self, X_test, y_test):\n",
    "    #     score_ = 0\n",
    "    #     n_tests = 0\n",
    "    #     for i, t in enumerate(X_test):\n",
    "    #         print(i)\n",
    "    #         points = []\n",
    "    #         for i in range(t.shape[0]):\n",
    "    #             points.append([t[i,0], t[i,1]])\n",
    "    #         t_data, t_id, sc = self.recognize(points)\n",
    "    #         if (t_id == y_test[i]):\n",
    "    #             score_ += 1\n",
    "    #         n_tests += 1\n",
    "    #     return score_ / n_tests\n"
   ]
  },
  {
   "cell_type": "code",
   "execution_count": 2,
   "metadata": {},
   "outputs": [],
   "source": [
    "def pathDistance(path1, path2):\n",
    "    ''' Calculates the distance between two paths. Fails if len(path1) != len(path2) '''\n",
    "    if len(path1) != len(path2):\n",
    "        raise Exception('Path lengths do not match!')\n",
    "    d = 0\n",
    "    for p_1, p_2 in zip(path1, path2):\n",
    "        d = d + getDistance(p_1, p_2)\n",
    "    return d / len(path1)\n",
    "\n",
    "\n"
   ]
  },
  {
   "cell_type": "code",
   "execution_count": 3,
   "metadata": {},
   "outputs": [],
   "source": [
    "def getDistance(point1, point2):\n",
    "    return linalg.norm(np.array(point2) - np.array(point1))\n"
   ]
  },
  {
   "cell_type": "code",
   "execution_count": 4,
   "metadata": {},
   "outputs": [],
   "source": [
    "def pathLength(points):\n",
    "    length = 0\n",
    "    for (i, j) in zip(points, points[1:]):\n",
    "        length += getDistance(i, j)\n",
    "    return length\n"
   ]
  },
  {
   "cell_type": "code",
   "execution_count": 5,
   "metadata": {},
   "outputs": [],
   "source": [
    "def pairwiseIterator(elems):\n",
    "    for (i, j) in zip(elems, elems[1:]):\n",
    "        yield (i, j)\n",
    "    yield (elems[-1], elems[0])"
   ]
  },
  {
   "cell_type": "code",
   "execution_count": 6,
   "metadata": {},
   "outputs": [
    {
     "data": {
      "text/plain": [
       "3"
      ]
     },
     "execution_count": 6,
     "metadata": {},
     "output_type": "execute_result"
    }
   ],
   "source": [
    "max(np.amax(np.array([[0, 1],\n",
    "       [2, 3]]),axis =0))"
   ]
  },
  {
   "cell_type": "code",
   "execution_count": 7,
   "metadata": {},
   "outputs": [
    {
     "data": {
      "text/plain": [
       "array([0, 1])"
      ]
     },
     "execution_count": 7,
     "metadata": {},
     "output_type": "execute_result"
    }
   ],
   "source": [
    "np.amin(np.array([[0, 1],\n",
    "       [2, 3]]),axis =0)"
   ]
  },
  {
   "cell_type": "code",
   "execution_count": 8,
   "metadata": {},
   "outputs": [
    {
     "data": {
      "text/plain": [
       "array([1, 3])"
      ]
     },
     "execution_count": 8,
     "metadata": {},
     "output_type": "execute_result"
    }
   ],
   "source": [
    "np.amax(np.array([[0, 1],\n",
    "       [2, 3]]),axis =1)"
   ]
  },
  {
   "cell_type": "code",
   "execution_count": 9,
   "metadata": {},
   "outputs": [
    {
     "data": {
      "text/plain": [
       "array([0, 2])"
      ]
     },
     "execution_count": 9,
     "metadata": {},
     "output_type": "execute_result"
    }
   ],
   "source": [
    "np.min(np.array([[0, 1],\n",
    "       [2, 3]]),axis =1)"
   ]
  },
  {
   "cell_type": "code",
   "execution_count": null,
   "metadata": {},
   "outputs": [],
   "source": []
  }
 ],
 "metadata": {
  "kernelspec": {
   "display_name": "Python 3",
   "language": "python",
   "name": "python3"
  },
  "language_info": {
   "codemirror_mode": {
    "name": "ipython",
    "version": 3
   },
   "file_extension": ".py",
   "mimetype": "text/x-python",
   "name": "python",
   "nbconvert_exporter": "python",
   "pygments_lexer": "ipython3",
   "version": "3.8.5"
  }
 },
 "nbformat": 4,
 "nbformat_minor": 4
}
