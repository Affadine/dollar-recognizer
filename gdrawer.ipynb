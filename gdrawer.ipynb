{
 "cells": [
  {
   "cell_type": "code",
   "execution_count": 1,
   "metadata": {},
   "outputs": [],
   "source": [
    "import sys\n",
    "import numpy as np\n",
    "from PyQt5.QtGui import *\n",
    "from PyQt5.QtWidgets import *\n",
    "from PyQt5.QtCore import *\n",
    "\n",
    "class GDrawer(QWidget):\n",
    "\n",
    "    def __init__(self, parent = None ):\n",
    "        QWidget.__init__(self, parent )\n",
    "        #print(\"gesture drawer\")\n",
    "        self.square_size = 100\n",
    "        self.margin = 8\n",
    "        self.setMinimumSize( self.square_size + self.margin, self.square_size + self.margin )\n",
    "        self.setMaximumSize( self.square_size + self.margin, self.square_size + self.margin )\n",
    "\n",
    "        self.path = QPolygon()\n",
    "        self.label = \"Label\"\n",
    "\n",
    "\n",
    "    ##############################\n",
    "    def scaleToSquare(self, points):\n",
    "        max_x, max_y = np.max(points, 0)\n",
    "        min_x, min_y = np.min(points, 0)\n",
    "        b_width = max_x - min_x\n",
    "        b_height = max_y - min_y\n",
    "        newPoints = np.zeros((1, 2))\n",
    "        for point in points:\n",
    "            q = np.array([0., 0.])\n",
    "            q[0] = ( (point[0]-min_x) * self.square_size) / b_width + self.margin /2\n",
    "            q[1] = ( (point[1]-min_y) * self.square_size) / b_height + self.margin /2\n",
    "            newPoints = np.append(newPoints, [q], 0)\n",
    "        return newPoints[1:]\n",
    "\n",
    "\n",
    "    ##############################\n",
    "    def set_gesture_path(self, points, label=\"No Label\"):\n",
    "        self.path.clear()\n",
    "        norm_points = self.scaleToSquare( points )\n",
    "        #print(norm_points)\n",
    "        for p in norm_points:\n",
    "            self.path.append( QPoint(p[0], p[1]) )\n",
    "        self.label = label\n",
    "        self.repaint()\n",
    "\n",
    "\n",
    "    ##############################\n",
    "    def paintEvent(self, QPaintEvent):\n",
    "        p = QPainter(self)\n",
    "        p.setRenderHint(QPainter.Antialiasing)\n",
    "        if self.path == QPolygon():\n",
    "            return\n",
    "        p.setPen(Qt.red)\n",
    "        p.setBrush(Qt.red)\n",
    "        p.drawPolyline( self.path )\n",
    "        p.drawEllipse( self.path[0], 2, 2 )\n",
    "\n"
   ]
  },
  {
   "cell_type": "code",
   "execution_count": null,
   "metadata": {},
   "outputs": [],
   "source": []
  }
 ],
 "metadata": {
  "kernelspec": {
   "display_name": "Python 3",
   "language": "python",
   "name": "python3"
  },
  "language_info": {
   "codemirror_mode": {
    "name": "ipython",
    "version": 3
   },
   "file_extension": ".py",
   "mimetype": "text/x-python",
   "name": "python",
   "nbconvert_exporter": "python",
   "pygments_lexer": "ipython3",
   "version": "3.8.5"
  }
 },
 "nbformat": 4,
 "nbformat_minor": 4
}
